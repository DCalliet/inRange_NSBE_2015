{
 "metadata": {
  "name": "",
  "signature": "sha256:45d9ba00552c4fdfc9099d7bf208488ecaf767700b61eb413bb954ad275d95d9"
 },
 "nbformat": 3,
 "nbformat_minor": 0,
 "worksheets": [
  {
   "cells": [
    {
     "cell_type": "code",
     "collapsed": false,
     "input": [
      "import requests\n",
      "import tweepy\n",
      "consumer_key = \"KQzqRm5CWEZ2gFfLnjTaB9Bhg\"\n",
      "consumer_secret = \"WukZb9SOT4jK5IOltdpIPiI3SW61mM5FHpzE68yuTSp4ZwdfwY\" \n",
      "access_token = \"604173301-jq7A4aIhACyS15IbGcuIPgUU1S8YSFbR6pPTIE2K\"\n",
      "access_token_secret = \"3kpXWWVp576ChfGGDFTRewdomSIuogi9vEjWlXuRAKOSK\"\n",
      "\n",
      "auth = tweepy.OAuthHandler(consumer_key, consumer_secret)\n",
      "auth.set_access_token(access_token, access_token_secret)\n",
      "\n",
      "api = tweepy.API(auth)\n",
      "\n",
      "public_tweets = api.search(\"Pappys\",geocode=\"38.6272N,90.1978W,10\")\n",
      "print public_tweets\n",
      "for tweet in public_tweets:\n",
      "    print tweet.text\n"
     ],
     "language": "python",
     "metadata": {},
     "outputs": [
      {
       "output_type": "stream",
       "stream": "stdout",
       "text": [
        "[]\n"
       ]
      },
      {
       "output_type": "stream",
       "stream": "stderr",
       "text": [
        "/Users/DevScrum/.virtualenvs/django/lib/python2.7/site-packages/requests/packages/urllib3/util/ssl_.py:79: InsecurePlatformWarning: A true SSLContext object is not available. This prevents urllib3 from configuring SSL appropriately and may cause certain SSL connections to fail. For more information, see https://urllib3.readthedocs.org/en/latest/security.html#insecureplatformwarning.\n",
        "  InsecurePlatformWarning\n"
       ]
      }
     ],
     "prompt_number": 8
    },
    {
     "cell_type": "code",
     "collapsed": false,
     "input": [],
     "language": "python",
     "metadata": {},
     "outputs": []
    }
   ],
   "metadata": {}
  }
 ]
}